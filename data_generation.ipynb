{
 "cells": [
  {
   "cell_type": "code",
   "execution_count": 1,
   "id": "d4c44f20",
   "metadata": {},
   "outputs": [],
   "source": [
    "# Auto reload library\n",
    "%load_ext autoreload\n",
    "%autoreload 2\n",
    "%matplotlib inline"
   ]
  },
  {
   "cell_type": "code",
   "execution_count": 2,
   "id": "3f8dfdd9",
   "metadata": {},
   "outputs": [],
   "source": [
    "import pandas as pd\n",
    "from os import path\n",
    "from data import process_raw_data"
   ]
  },
  {
   "cell_type": "markdown",
   "id": "932cf83b",
   "metadata": {},
   "source": [
    "## Raw Data Processing\n"
   ]
  },
  {
   "cell_type": "code",
   "execution_count": null,
   "id": "9bc15040",
   "metadata": {},
   "outputs": [],
   "source": [
    "raw_data = pd.read_csv(\"data/raw_data.csv\")"
   ]
  },
  {
   "cell_type": "code",
   "execution_count": null,
   "id": "befe01d0",
   "metadata": {},
   "outputs": [],
   "source": [
    "data = process_raw_data(raw_data)\n",
    "data.to_csv(\"data/research_data.csv\", index=False)"
   ]
  },
  {
   "cell_type": "code",
   "execution_count": null,
   "id": "0e9bc901",
   "metadata": {},
   "outputs": [],
   "source": [
    "data.head()\n",
    "print(data.shape[0], \"unique records with\", data.shape[1], \"fields.\")\n",
    "print(\"Date ranges between \", data.date.min(), \"and\", data.date.max(), \"with\", len(data.date.unique()), \"unique days.\")\n",
    "print(\"Total of\", len(data.optionid.unique()), \"unique options. On average, each option has\", data.groupby(\"optionid\").size().mean(), \"records.\")\n",
    "data.tail()"
   ]
  }
 ],
 "metadata": {
  "kernelspec": {
   "display_name": "Python 3 (ipykernel)",
   "language": "python",
   "name": "python3"
  },
  "language_info": {
   "codemirror_mode": {
    "name": "ipython",
    "version": 3
   },
   "file_extension": ".py",
   "mimetype": "text/x-python",
   "name": "python",
   "nbconvert_exporter": "python",
   "pygments_lexer": "ipython3",
   "version": "3.9.7"
  }
 },
 "nbformat": 4,
 "nbformat_minor": 5
}
