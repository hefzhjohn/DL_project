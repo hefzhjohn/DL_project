{
 "cells": [
  {
   "cell_type": "code",
   "execution_count": 1,
   "id": "quarterly-involvement",
   "metadata": {},
   "outputs": [],
   "source": [
    "import numpy as np\n",
    "import pandas as pd\n",
    "import torch.nn as nn\n",
    "import torch\n",
    "from dataset import DataPrep\n",
    "from torch.utils.data import DataLoader\n",
    "from torch.utils.data import random_split\n",
    "from mlp import MLP\n",
    "from sklearn.metrics import mean_squared_error"
   ]
  },
  {
   "cell_type": "code",
   "execution_count": 2,
   "id": "authentic-subscriber",
   "metadata": {},
   "outputs": [],
   "source": [
    "device = torch.device('cuda' if torch.cuda.is_available() else 'cpu')"
   ]
  },
  {
   "cell_type": "code",
   "execution_count": 9,
   "id": "innovative-register",
   "metadata": {},
   "outputs": [],
   "source": [
    "df = pd.read_csv('data/processed_2010-2017.csv')\n",
    "df = df[['spot_return', 'delta', 'ttm_yr', 'impvol_chg']]\n",
    "df = torch.tensor(df.values).float().to(device)"
   ]
  },
  {
   "cell_type": "code",
   "execution_count": 10,
   "id": "prospective-battlefield",
   "metadata": {},
   "outputs": [],
   "source": [
    "dataset = DataPrep(df)\n",
    "train, test = dataset.split(test_ratio=0.3)\n",
    "train_dl = DataLoader(train, batch_size=512, shuffle=True)\n",
    "test_dl = DataLoader(test, batch_size=512, shuffle=False)"
   ]
  },
  {
   "cell_type": "code",
   "execution_count": 11,
   "id": "configured-pledge",
   "metadata": {},
   "outputs": [],
   "source": [
    "def validate(test_dl, model, criterion):\n",
    "    predictions, actuals = torch.FloatTensor().to(device), torch.FloatTensor().to(device)\n",
    "    for i, (inputs, targets) in enumerate(test_dl):\n",
    "        with torch.no_grad():\n",
    "            yhat = model(inputs)\n",
    "            predictions = torch.cat((predictions, yhat), 0)\n",
    "            actuals = torch.cat((actuals, targets), 0)\n",
    "    actuals = actuals.unsqueeze(dim=1)\n",
    "    mse = criterion(predictions, actuals).item()\n",
    "    return mse"
   ]
  },
  {
   "cell_type": "code",
   "execution_count": 15,
   "id": "reverse-representative",
   "metadata": {},
   "outputs": [
    {
     "name": "stdout",
     "output_type": "stream",
     "text": [
      "Done with training epoch No.0. MSE is 0.012228376232087612\n",
      "Done with training epoch No.1. MSE is 0.012209395878016949\n",
      "Done with training epoch No.2. MSE is 0.012202967889606953\n",
      "Done with training epoch No.3. MSE is 0.012199738062918186\n",
      "Done with training epoch No.4. MSE is 0.01219780184328556\n",
      "Done with training epoch No.5. MSE is 0.012196516618132591\n",
      "Done with training epoch No.6. MSE is 0.012195602059364319\n",
      "Done with training epoch No.7. MSE is 0.012194923125207424\n",
      "Done with training epoch No.8. MSE is 0.012194397859275341\n",
      "Done with training epoch No.9. MSE is 0.012193979695439339\n"
     ]
    }
   ],
   "source": [
    "model = MLP(input_dim=3).to(device=device)\n",
    "\n",
    "criterion = nn.MSELoss()\n",
    "optimizer = torch.optim.SGD(model.parameters(), lr=0.1)\n",
    "\n",
    "# Training\n",
    "for epoch in range(10):\n",
    "    for i, (inputs, targets) in enumerate(train_dl):\n",
    "        optimizer.zero_grad()\n",
    "        yhat = model(inputs)\n",
    "        loss = criterion(yhat, targets.unsqueeze(dim=1))\n",
    "        loss.backward()\n",
    "        optimizer.step()\n",
    "    if epoch % 1 == 0:\n",
    "        mse = validate(test_dl, model, criterion)\n",
    "        print(\"Done with training epoch No.\" + str(epoch) + \". MSE is \" + str(mse))"
   ]
  },
  {
   "cell_type": "code",
   "execution_count": null,
   "id": "aware-gateway",
   "metadata": {},
   "outputs": [],
   "source": []
  },
  {
   "cell_type": "code",
   "execution_count": 8,
   "id": "fuzzy-tackle",
   "metadata": {},
   "outputs": [
    {
     "data": {
      "text/plain": [
       "0.012190218083560467"
      ]
     },
     "execution_count": 8,
     "metadata": {},
     "output_type": "execute_result"
    }
   ],
   "source": [
    "eval_model(test_dl, model)"
   ]
  }
 ],
 "metadata": {
  "kernelspec": {
   "display_name": "Python 3",
   "language": "python",
   "name": "python3"
  },
  "language_info": {
   "codemirror_mode": {
    "name": "ipython",
    "version": 3
   },
   "file_extension": ".py",
   "mimetype": "text/x-python",
   "name": "python",
   "nbconvert_exporter": "python",
   "pygments_lexer": "ipython3",
   "version": "3.8.5"
  }
 },
 "nbformat": 4,
 "nbformat_minor": 5
}
